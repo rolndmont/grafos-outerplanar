{
 "cells": [
  {
   "cell_type": "markdown",
   "id": "405d9221",
   "metadata": {},
   "source": [
    "# Algoritmo para Conjunto Independiente Máximo (MIS) en Grafos Outerplanar"
   ]
  },
  {
   "cell_type": "code",
   "execution_count": 36,
   "id": "8522c4f4",
   "metadata": {},
   "outputs": [],
   "source": [
    "import networkx as nx\n",
    "import matplotlib.pyplot as plt"
   ]
  },
  {
   "cell_type": "markdown",
   "id": "2092e53d",
   "metadata": {},
   "source": [
    "## Definición del grafo outerplanar"
   ]
  },
  {
   "cell_type": "code",
   "execution_count": 37,
   "id": "c2ea7059",
   "metadata": {},
   "outputs": [],
   "source": [
    "G = nx.Graph()\n",
    "edges = [\n",
    "    (1, 2), (2, 3), (3, 4), (4, 5), (5, 1),  # ciclo externo\n",
    "    (2, 5), (3, 5),  # diagonales internas\n",
    "]\n",
    "G.add_edges_from(edges)"
   ]
  },
  {
   "cell_type": "markdown",
   "id": "d79a2eac",
   "metadata": {},
   "source": [
    "## Algoritmo para encontrar el Conjunto Independiente Máximo (aproximado)"
   ]
  },
  {
   "cell_type": "code",
   "execution_count": 38,
   "id": "b066673a",
   "metadata": {},
   "outputs": [],
   "source": [
    "def mis_outerplanar(graph):\n",
    "    mis = set()\n",
    "    visited = set()\n",
    "\n",
    "    def dfs(u):\n",
    "        visited.add(u)\n",
    "        can_add = all(v not in mis for v in graph.neighbors(u))\n",
    "        if can_add:\n",
    "            mis.add(u)\n",
    "        for v in graph.neighbors(u):\n",
    "            if v not in visited:\n",
    "                dfs(v)\n",
    "\n",
    "    for node in graph.nodes:\n",
    "        if node not in visited:\n",
    "            dfs(node)\n",
    "\n",
    "    return mis"
   ]
  },
  {
   "cell_type": "markdown",
   "id": "b262cb97",
   "metadata": {},
   "source": [
    "## Ejecución y visualización del resultado"
   ]
  },
  {
   "cell_type": "code",
   "execution_count": 39,
   "id": "1c829ebf",
   "metadata": {},
   "outputs": [
    {
     "name": "stdout",
     "output_type": "stream",
     "text": [
      "Conjunto Independiente Máximo aproximado (MIS): {1, 3}\n"
     ]
    },
    {
     "data": {
      "image/png": "[encoded data removed]",
      "text/plain": [
       "<Figure size 600x400 with 1 Axes>"
      ]
     },
     "metadata": {},
     "output_type": "display_data"
    }
   ],
   "source": [
    "mis_result = mis_outerplanar(G)\n",
    "print(\"Conjunto Independiente Máximo aproximado (MIS):\", mis_result)\n",
    "\n",
    "# Visualización del grafo y el MIS\n",
    "node_colors = ['green' if node in mis_result else 'lightgray' for node in G.nodes]\n",
    "pos = nx.planar_layout(G)\n",
    "\n",
    "plt.figure(figsize=(6, 4))\n",
    "nx.draw(G, pos, with_labels=True, node_color=node_colors, node_size=800,\n",
    "        font_size=12, font_weight='bold', edge_color='black')\n",
    "plt.title(\"Grafo Outerplanar con MIS Aproximado\")\n",
    "plt.axis('off')\n",
    "plt.show()"
   ]
  }
 ],
 "metadata": {
  "kernelspec": {
   "display_name": "Python 3",
   "language": "python",
   "name": "python3"
  },
  "language_info": {
   "codemirror_mode": {
    "name": "ipython",
    "version": 3
   },
   "file_extension": ".py",
   "mimetype": "text/x-python",
   "name": "python",
   "nbconvert_exporter": "python",
   "pygments_lexer": "ipython3",
   "version": "3.10.10"
  }
 },
 "nbformat": 4,
 "nbformat_minor": 5
}
